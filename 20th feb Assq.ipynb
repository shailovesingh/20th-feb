{
 "cells": [
  {
   "cell_type": "markdown",
   "id": "8d66d2bc-e89d-466a-aaf5-f24fd98384a4",
   "metadata": {},
   "source": [
    "Q1\n",
    "\n",
    "GET method:\n",
    "\n",
    "This method is used to retrieve data from the server. when we search anything on web browser noticed that there was a keyword shown on the URL that we searches. Here we request to server to give us data. This request or GET request is was go through URL to the server. This request is used where data is not sensitive.\n",
    "\n",
    "POST method:\n",
    "\n",
    "This method makes enables users to send data over to the server . Example in Gmail login. Whenever we enter the information and submit over to the POST request then there is no information was shown in URL because POST request goes through body not URL to the server for processing it."
   ]
  },
  {
   "cell_type": "markdown",
   "id": "3c5026ee-cbc6-47c1-a94c-e6008ac71576",
   "metadata": {},
   "source": [
    "Q2\n",
    "\n",
    "The Request is the object in flask that contains all the data sent from the client to the server. Python has module called requests that helps us deal with creating HTTP request and responses. Example-- GET request, POST request etc.\n",
    "\n",
    "The request module takes care of creating the request-response objects, establishing connection to server etc.\n",
    "\n"
   ]
  },
  {
   "cell_type": "markdown",
   "id": "989fdbdf-0157-4d8d-b212-e298ac58aff3",
   "metadata": {},
   "source": [
    "Q3\n",
    "\n",
    "Redirect() function which redirects the user to some specified URL with the specified status code.\n",
    "\n",
    "An HTTP status code is a response from the server to browser. when we visit a website a request is sent to the server and then server responds to the broser request with a 3 digit code: The staus code also represent error."
   ]
  },
  {
   "cell_type": "markdown",
   "id": "6e3bb790-ff7e-41a2-87b4-c5bb273ccee1",
   "metadata": {},
   "source": [
    "Q4\n",
    "\n",
    "Templates are basically a folder made by UI developer in which HTML files are contains. This templates files are predefined which helps to build web application and display in web browser.\n",
    "\n",
    "for that we have to used render_template module and render_template() function. This function is used to render a file inside template and generayes the output from that file."
   ]
  },
  {
   "cell_type": "markdown",
   "id": "384e9a7b-93dd-475d-a154-be53cbe37471",
   "metadata": {},
   "source": [
    "Q5.\n"
   ]
  },
  {
   "cell_type": "code",
   "execution_count": null,
   "id": "f9514839-b19c-425b-9d9b-fbda4442ffd0",
   "metadata": {},
   "outputs": [],
   "source": []
  }
 ],
 "metadata": {
  "kernelspec": {
   "display_name": "Python 3 (ipykernel)",
   "language": "python",
   "name": "python3"
  },
  "language_info": {
   "codemirror_mode": {
    "name": "ipython",
    "version": 3
   },
   "file_extension": ".py",
   "mimetype": "text/x-python",
   "name": "python",
   "nbconvert_exporter": "python",
   "pygments_lexer": "ipython3",
   "version": "3.10.8"
  }
 },
 "nbformat": 4,
 "nbformat_minor": 5
}
